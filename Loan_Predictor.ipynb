{
 "cells": [
  {
   "cell_type": "markdown",
   "id": "a4c4e838",
   "metadata": {},
   "source": [
    "# Application 3: Loan Eligibility Predictor"
   ]
  },
  {
   "cell_type": "code",
   "execution_count": 1,
   "id": "09d2f13d-2db5-47fb-8ad5-8a50e6c11fba",
   "metadata": {},
   "outputs": [],
   "source": [
    "import pandas as pd\n",
    "import numpy as np\n",
    "import seaborn as sns\n",
    "import matplotlib.pyplot as plt\n",
    "\n",
    "from sklearn import datasets, preprocessing \n",
    "from sklearn.model_selection import train_test_split\n",
    "\n",
    "from sklearn.linear_model import LogisticRegression\n",
    "from sklearn.discriminant_analysis import LinearDiscriminantAnalysis\n",
    "from sklearn.svm import SVC\n",
    "from sklearn.neighbors import KNeighborsClassifier\n",
    "from sklearn.naive_bayes import GaussianNB\n",
    "from sklearn.tree import DecisionTreeClassifier, plot_tree\n",
    "from sklearn.ensemble import RandomForestClassifier\n",
    "from sklearn.metrics import *\n",
    "\n",
    "import warnings\n",
    "warnings.filterwarnings('ignore')"
   ]
  },
  {
   "cell_type": "code",
   "execution_count": 2,
   "id": "c79fdd79-c6ca-45ca-b6ae-12caff2bc9c4",
   "metadata": {},
   "outputs": [],
   "source": [
    "import ipywidgets as widgets\n",
    "from IPython.display import clear_output"
   ]
  },
  {
   "cell_type": "code",
   "execution_count": 3,
   "id": "309d6406",
   "metadata": {},
   "outputs": [],
   "source": [
    "data = pd.read_csv('data.csv')"
   ]
  },
  {
   "cell_type": "code",
   "execution_count": 4,
   "id": "9f1298ae",
   "metadata": {},
   "outputs": [],
   "source": [
    "data['Gender'].fillna(\n",
    "    data[ 'Gender'].mode()[0], \n",
    "    inplace=True\n",
    ") \n",
    "\n",
    "data['Married'].fillna(\n",
    "    data['Married'].mode()[0], \n",
    "    inplace=True\n",
    ") \n",
    "\n",
    "data['Dependents'].fillna(\n",
    "    data[ 'Dependents'].mode()[0], \n",
    "    inplace=True\n",
    ") \n",
    "\n",
    "data['Self_Employed'].fillna(\n",
    "    data['Self_Employed'].mode()[0], \n",
    "    inplace=True\n",
    ") \n",
    "\n",
    "data['Credit_History'].fillna(\n",
    "    data['Credit_History'].mode()[0], \n",
    "    inplace=True\n",
    ") \n",
    "\n",
    "data['Loan_Amount_Term'].fillna(\n",
    "    data[ 'Loan_Amount_Term' ].mode()[0], \n",
    "    inplace=True\n",
    ") "
   ]
  },
  {
   "cell_type": "code",
   "execution_count": 5,
   "id": "f8680abe",
   "metadata": {},
   "outputs": [],
   "source": [
    "data['LoanAmount'].fillna(\n",
    "    data['LoanAmount'].median(), \n",
    "    inplace=True\n",
    ") "
   ]
  },
  {
   "cell_type": "code",
   "execution_count": 6,
   "id": "ead21ab3",
   "metadata": {},
   "outputs": [],
   "source": [
    "data['LoanAmount_log'] = np.log(data['LoanAmount'])"
   ]
  },
  {
   "cell_type": "code",
   "execution_count": 7,
   "id": "6f6fa40b",
   "metadata": {},
   "outputs": [],
   "source": [
    "classifiers = []\n",
    "lr_classifier = LogisticRegression()\n",
    "classifiers.append(lr_classifier)\n",
    "lda_classifier = LinearDiscriminantAnalysis()\n",
    "classifiers.append(lda_classifier)\n",
    "svc_classifier = SVC()\n",
    "classifiers.append(svc_classifier)\n",
    "kn_classifier = KNeighborsClassifier()\n",
    "classifiers.append(kn_classifier)\n",
    "gnb_classifier = GaussianNB()\n",
    "classifiers.append(gnb_classifier)\n",
    "dt_classifier = DecisionTreeClassifier(random_state = 43)\n",
    "classifiers.append(dt_classifier)\n",
    "rf_classifier = RandomForestClassifier(random_state = 43)\n",
    "classifiers.append(rf_classifier)"
   ]
  },
  {
   "cell_type": "code",
   "execution_count": 8,
   "id": "ae7b8489",
   "metadata": {},
   "outputs": [],
   "source": [
    "data['Total_Income'] = data['ApplicantIncome'] + data['CoapplicantIncome']"
   ]
  },
  {
   "cell_type": "code",
   "execution_count": 9,
   "id": "a5c7a350",
   "metadata": {},
   "outputs": [],
   "source": [
    "data['Total_Income_log'] = np.log(data['Total_Income'])"
   ]
  },
  {
   "cell_type": "code",
   "execution_count": 10,
   "id": "24927ffe",
   "metadata": {},
   "outputs": [],
   "source": [
    "data['EMI'] = data['LoanAmount'] / data['Loan_Amount_Term']"
   ]
  },
  {
   "cell_type": "code",
   "execution_count": 11,
   "id": "97447712",
   "metadata": {},
   "outputs": [],
   "source": [
    "data['EMI_log'] = np.log(data['EMI'])"
   ]
  },
  {
   "cell_type": "code",
   "execution_count": 12,
   "id": "ad2c79a2",
   "metadata": {},
   "outputs": [],
   "source": [
    "data['Balance Income'] = data['Total_Income'] - (data['EMI'] * 1000) #Multiply with 1000 to make the units equal\n"
   ]
  },
  {
   "cell_type": "code",
   "execution_count": 13,
   "id": "060b2ae4",
   "metadata": {},
   "outputs": [],
   "source": [
    "data['Balance Income_log'] = np.log(data['Balance Income'])"
   ]
  },
  {
   "cell_type": "code",
   "execution_count": 14,
   "id": "524c56ea",
   "metadata": {},
   "outputs": [],
   "source": [
    "data = data.drop(['ApplicantIncome', 'CoapplicantIncome', 'LoanAmount', 'Loan_Amount_Term'], axis=1) "
   ]
  },
  {
   "cell_type": "code",
   "execution_count": 15,
   "id": "1cbffde5",
   "metadata": {},
   "outputs": [],
   "source": [
    "data['Balance Income_log'].fillna(\n",
    "    data['Balance Income_log'].median(), \n",
    "    inplace=True\n",
    ") "
   ]
  },
  {
   "cell_type": "code",
   "execution_count": 16,
   "id": "e1b25cd8",
   "metadata": {},
   "outputs": [],
   "source": [
    "X = data.drop('Loan_Status', 1) \n",
    "y = data.Loan_Status"
   ]
  },
  {
   "cell_type": "code",
   "execution_count": 17,
   "id": "708c3873",
   "metadata": {},
   "outputs": [],
   "source": [
    "X = pd.get_dummies(X) "
   ]
  },
  {
   "cell_type": "code",
   "execution_count": 18,
   "id": "b6415e5c",
   "metadata": {},
   "outputs": [],
   "source": [
    "from sklearn.model_selection import train_test_split\n",
    "X_train, X_test, Y_train, Y_test = train_test_split(X, y, test_size=0.3, random_state = 0)"
   ]
  },
  {
   "cell_type": "code",
   "execution_count": 19,
   "id": "680528c5",
   "metadata": {},
   "outputs": [
    {
     "name": "stdout",
     "output_type": "stream",
     "text": [
      "<class 'sklearn.linear_model._logistic.LogisticRegression'>\n",
      "<class 'sklearn.discriminant_analysis.LinearDiscriminantAnalysis'>\n",
      "<class 'sklearn.svm._classes.SVC'>\n",
      "<class 'sklearn.neighbors._classification.KNeighborsClassifier'>\n",
      "<class 'sklearn.naive_bayes.GaussianNB'>\n",
      "<class 'sklearn.tree._classes.DecisionTreeClassifier'>\n",
      "<class 'sklearn.ensemble._forest.RandomForestClassifier'>\n"
     ]
    }
   ],
   "source": [
    "for classifier in classifiers:\n",
    "    print(type(classifier))\n",
    "    classifier.fit(X_train, Y_train)"
   ]
  },
  {
   "cell_type": "code",
   "execution_count": 20,
   "id": "5631e180-f83d-4464-b766-f7d69f5562d4",
   "metadata": {},
   "outputs": [],
   "source": [
    "Gender = widgets.Dropdown(\n",
    "    options = [('Male'), \n",
    "               ('Female')\n",
    "              ],\n",
    "    disabled = False, \n",
    "    description=\"Gender\"\n",
    ")\n",
    "\n",
    "Married = widgets.Dropdown(\n",
    "    options = [('Yes'), \n",
    "               ('No')\n",
    "              ],\n",
    "    disabled = False,\n",
    "    description=\"Married\"\n",
    ")\n",
    "\n",
    "Dependents = widgets.Dropdown(\n",
    "    options = [('0'), \n",
    "               ('1'),\n",
    "               ('2'),\n",
    "               ('3+')\n",
    "              ],\n",
    "    disabled = False,\n",
    "    description=\"Dependents\"\n",
    ")\n",
    "\n",
    "Education = widgets.Dropdown(\n",
    "    options = [('Graduate'), \n",
    "               ('Not Graduate')\n",
    "              ],\n",
    "    disabled = False,\n",
    "    description=\"Education\"\n",
    ")\n",
    "\n",
    "Self_Employed = widgets.Dropdown(\n",
    "    options = [('Yes'), \n",
    "               ('No')\n",
    "              ],\n",
    "    disabled = False,\n",
    "    description=\"Self_Employed\"\n",
    ")\n",
    "\n",
    "ApplicantIncome = widgets.Text(description=\"ApplicantIncome\")\n",
    "CoapplicantIncome = widgets.Text(description=\"CoapplicantIncome\")\n",
    "LoanAmount = widgets.Text(description=\"LoanAmount\")\n",
    "Loan_Amount_Term = widgets.Text(description=\"Loan_Amount_Term\")\n",
    "\n",
    "Credit_History = widgets.Dropdown(\n",
    "    options = [('0'), \n",
    "               ('1')\n",
    "              ],\n",
    "    disabled = False,\n",
    "    description=\"Credit_History\"\n",
    ")\n",
    "\n",
    "Property_Area = widgets.Dropdown(\n",
    "    options = [('Semiurban'), \n",
    "               ('Urban'),\n",
    "               ('Rural')\n",
    "              ],\n",
    "    disabled = False,\n",
    "    description=\"Property_Area\"\n",
    ")"
   ]
  },
  {
   "cell_type": "code",
   "execution_count": 21,
   "id": "ace605ea-53ba-417b-95c3-75116d2a7e4e",
   "metadata": {},
   "outputs": [
    {
     "data": {
      "application/vnd.jupyter.widget-view+json": {
       "model_id": "0ef94c84dc2a44809450fb2e1604008e",
       "version_major": 2,
       "version_minor": 0
      },
      "text/plain": [
       "Dropdown(description='Gender', options=('Male', 'Female'), value='Male')"
      ]
     },
     "metadata": {},
     "output_type": "display_data"
    },
    {
     "data": {
      "application/vnd.jupyter.widget-view+json": {
       "model_id": "3e6ebbd238c04537a5615e5fda9cc70f",
       "version_major": 2,
       "version_minor": 0
      },
      "text/plain": [
       "Dropdown(description='Married', options=('Yes', 'No'), value='Yes')"
      ]
     },
     "metadata": {},
     "output_type": "display_data"
    },
    {
     "data": {
      "application/vnd.jupyter.widget-view+json": {
       "model_id": "5855671d24694a0ca306334fcbd15ef8",
       "version_major": 2,
       "version_minor": 0
      },
      "text/plain": [
       "Dropdown(description='Dependents', options=('0', '1', '2', '3+'), value='0')"
      ]
     },
     "metadata": {},
     "output_type": "display_data"
    },
    {
     "data": {
      "application/vnd.jupyter.widget-view+json": {
       "model_id": "e0f7a25180054256979f91d5515e744f",
       "version_major": 2,
       "version_minor": 0
      },
      "text/plain": [
       "Dropdown(description='Education', options=('Graduate', 'Not Graduate'), value='Graduate')"
      ]
     },
     "metadata": {},
     "output_type": "display_data"
    },
    {
     "data": {
      "application/vnd.jupyter.widget-view+json": {
       "model_id": "6d84bca0e4bb4fe9afa3947fe9a4ec9f",
       "version_major": 2,
       "version_minor": 0
      },
      "text/plain": [
       "Dropdown(description='Self_Employed', options=('Yes', 'No'), value='Yes')"
      ]
     },
     "metadata": {},
     "output_type": "display_data"
    },
    {
     "data": {
      "application/vnd.jupyter.widget-view+json": {
       "model_id": "9a6d690fdef64f479a0ad6b1d626222f",
       "version_major": 2,
       "version_minor": 0
      },
      "text/plain": [
       "Text(value='', description='ApplicantIncome')"
      ]
     },
     "metadata": {},
     "output_type": "display_data"
    },
    {
     "data": {
      "application/vnd.jupyter.widget-view+json": {
       "model_id": "80819f3c6461486ab44ba6c6498f8220",
       "version_major": 2,
       "version_minor": 0
      },
      "text/plain": [
       "Text(value='', description='CoapplicantIncome')"
      ]
     },
     "metadata": {},
     "output_type": "display_data"
    },
    {
     "data": {
      "application/vnd.jupyter.widget-view+json": {
       "model_id": "16c001ea52614cbab7480e7691189d9b",
       "version_major": 2,
       "version_minor": 0
      },
      "text/plain": [
       "Text(value='', description='LoanAmount')"
      ]
     },
     "metadata": {},
     "output_type": "display_data"
    },
    {
     "data": {
      "application/vnd.jupyter.widget-view+json": {
       "model_id": "7b76b1f518144a1ebc0a6e3e13491eb8",
       "version_major": 2,
       "version_minor": 0
      },
      "text/plain": [
       "Text(value='', description='Loan_Amount_Term')"
      ]
     },
     "metadata": {},
     "output_type": "display_data"
    },
    {
     "data": {
      "application/vnd.jupyter.widget-view+json": {
       "model_id": "587f09e4b158489599a03c3b04443e96",
       "version_major": 2,
       "version_minor": 0
      },
      "text/plain": [
       "Dropdown(description='Credit_History', options=('0', '1'), value='0')"
      ]
     },
     "metadata": {},
     "output_type": "display_data"
    },
    {
     "data": {
      "application/vnd.jupyter.widget-view+json": {
       "model_id": "4e6512bb5f744dfb8060011a41c39353",
       "version_major": 2,
       "version_minor": 0
      },
      "text/plain": [
       "Dropdown(description='Property_Area', options=('Semiurban', 'Urban', 'Rural'), value='Semiurban')"
      ]
     },
     "metadata": {},
     "output_type": "display_data"
    }
   ],
   "source": [
    "print(\"Please enter the loan application details:\")\n",
    "display(Gender)\n",
    "display(Married)\n",
    "display(Dependents)\n",
    "display(Education)\n",
    "display(Self_Employed )\n",
    "display(ApplicantIncome )\n",
    "display(CoapplicantIncome)\n",
    "display(LoanAmount)\n",
    "display(Loan_Amount_Term )\n",
    "display(Credit_History)\n",
    "display(Property_Area)"
   ]
  },
  {
   "cell_type": "code",
   "execution_count": 22,
   "id": "3bff9065-a13a-41d7-b4fb-31996e4c57d9",
   "metadata": {},
   "outputs": [
    {
     "name": "stdout",
     "output_type": "stream",
     "text": [
      "Select Algorithm\n"
     ]
    },
    {
     "data": {
      "application/vnd.jupyter.widget-view+json": {
       "model_id": "1e49ebc24ab34274bc3f6836bba7733e",
       "version_major": 2,
       "version_minor": 0
      },
      "text/plain": [
       "Dropdown(options=(('Logistic Regression', 'LR'), ('Linear Discriminant Analysis ', 'LDA'), ('Support Vector Ma…"
      ]
     },
     "metadata": {},
     "output_type": "display_data"
    }
   ],
   "source": [
    "algorithm = widgets.Dropdown(\n",
    "    options = [('Logistic Regression', 'LR'), \n",
    "               ('Linear Discriminant Analysis ', 'LDA'), \n",
    "               ('Support Vector Machines', 'SVM'),\n",
    "               ('K-Nearest Neighbors', 'KN'),\n",
    "               ('Naive Bayes', 'NB'),\n",
    "               ('Decision Trees', 'DT'),\n",
    "               ('Random Forest', 'RF'),\n",
    "              ],\n",
    "    disabled = False,\n",
    ")\n",
    "\n",
    "print('Select Algorithm')\n",
    "display(algorithm)"
   ]
  },
  {
   "cell_type": "code",
   "execution_count": 23,
   "id": "58cab7e9-97bd-4458-a482-c6a09872ad46",
   "metadata": {},
   "outputs": [],
   "source": [
    "prediction = widgets.Output()\n",
    "\n",
    "button_predict = widgets.Button(description=\"Predict\")\n",
    "\n",
    "def on_button_predict_clicked(b):\n",
    "    \n",
    "    input_data = {}\n",
    "    input_data['Gender'] = Gender.value\n",
    "    input_data['Married'] = Married.value\n",
    "    input_data['Dependents'] = Dependents.value\n",
    "    input_data['Education'] = Education.value\n",
    "    input_data['Self_Employed'] = Self_Employed.value\n",
    "    input_data['ApplicantIncome'] = float(ApplicantIncome.value)\n",
    "    input_data['CoapplicantIncome'] = float(CoapplicantIncome.value)\n",
    "    input_data['LoanAmount'] = float(LoanAmount.value)\n",
    "    input_data['Loan_Amount_Term'] = float(Loan_Amount_Term.value)\n",
    "    input_data['Credit_History'] = float(Credit_History.value)\n",
    "    input_data['Property_Area'] = Property_Area.value\n",
    "    \n",
    "    user_input = pd.DataFrame(input_data, columns = ['Gender','Married','Dependents','Education','Self_Employed','ApplicantIncome','CoapplicantIncome','LoanAmount','Loan_Amount_Term','Credit_History','Property_Area'], index=[0])\n",
    "    \n",
    "    user_input['Total_Income'] = user_input['ApplicantIncome'] + user_input['CoapplicantIncome']\n",
    "    user_input['Total_Income_log'] = np.log(user_input['Total_Income'])\n",
    "    user_input['EMI'] = user_input['LoanAmount'] / user_input['Loan_Amount_Term']\n",
    "    user_input['EMI_log'] = np.log(user_input['EMI'])\n",
    "    user_input['Balance Income'] = user_input['Total_Income'] - (user_input['EMI'] * 1000)\n",
    "    user_input['Balance Income_log'] = np.log(user_input['Balance Income'])\n",
    "    user_input = user_input.drop(['ApplicantIncome', 'CoapplicantIncome', 'LoanAmount', 'Loan_Amount_Term'], axis=1) \n",
    "    user_input = pd.get_dummies(user_input) \n",
    "    \n",
    "    missing_cols = set(X_train.columns ) - set(user_input.columns)\n",
    "    for c in missing_cols:\n",
    "        user_input[c] = 0\n",
    "    # Ensure the order of column in the test set is in the same order than in train set\n",
    "    user_input = user_input[X_train.columns]\n",
    "    \n",
    "    selected_algorithm = algorithm.value\n",
    "    \n",
    "    if selected_algorithm == 'LR':\n",
    "        classifier = lr_classifier\n",
    "    elif selected_algorithm == 'LDA':\n",
    "        classifier = lda_classifier\n",
    "    elif selected_algorithm == 'SVM':\n",
    "        classifier = svc_classifier        \n",
    "    elif selected_algorithm == 'KN':\n",
    "        classifier = kn_classifier\n",
    "    elif selected_algorithm == 'NB':\n",
    "        classifier = gnb_classifier\n",
    "    elif selected_algorithm == 'DT':\n",
    "        classifier = dt_classifier\n",
    "    elif selected_algorithm == 'RF':\n",
    "        classifier = rf_classifier\n",
    "        \n",
    "    with prediction:\n",
    "        clear_output(True)\n",
    "        #print(user_input)\n",
    "        print(f'Selected Algorithm = {selected_algorithm}')\n",
    "        print(classifier.predict(user_input)[0])\n",
    "        \n",
    "button_predict.on_click(on_button_predict_clicked)"
   ]
  },
  {
   "cell_type": "code",
   "execution_count": 24,
   "id": "59a24d3d-45ef-45d6-beb7-e2eb69e139f9",
   "metadata": {},
   "outputs": [
    {
     "data": {
      "application/vnd.jupyter.widget-view+json": {
       "model_id": "458093aaedfd497397fd45f5d01a1798",
       "version_major": 2,
       "version_minor": 0
      },
      "text/plain": [
       "Button(description='Predict', style=ButtonStyle())"
      ]
     },
     "metadata": {},
     "output_type": "display_data"
    },
    {
     "data": {
      "application/vnd.jupyter.widget-view+json": {
       "model_id": "025c834f0f384a9a952c89314276e90e",
       "version_major": 2,
       "version_minor": 0
      },
      "text/plain": [
       "Output()"
      ]
     },
     "metadata": {},
     "output_type": "display_data"
    }
   ],
   "source": [
    "display(button_predict)\n",
    "display(prediction)"
   ]
  },
  {
   "cell_type": "code",
   "execution_count": null,
   "id": "ce08a3d2-94a0-4f07-9b28-ce90d3056e5c",
   "metadata": {},
   "outputs": [],
   "source": []
  },
  {
   "cell_type": "code",
   "execution_count": null,
   "id": "1f1de589",
   "metadata": {},
   "outputs": [],
   "source": []
  }
 ],
 "metadata": {
  "kernelspec": {
   "display_name": "Python 3",
   "language": "python",
   "name": "python3"
  },
  "language_info": {
   "codemirror_mode": {
    "name": "ipython",
    "version": 3
   },
   "file_extension": ".py",
   "mimetype": "text/x-python",
   "name": "python",
   "nbconvert_exporter": "python",
   "pygments_lexer": "ipython3",
   "version": "3.8.5"
  }
 },
 "nbformat": 4,
 "nbformat_minor": 5
}
